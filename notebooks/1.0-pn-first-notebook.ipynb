{
 "cells": [
  {
   "cell_type": "markdown",
   "metadata": {
    "deletable": true,
    "editable": true
   },
   "source": [
    "# Détermination du parcours client : Notebook Exhaustif\n",
    "\n",
    "Ce notebook a pour but de faire partager le cheminement que nous avons mené tout au long de notre projet pour arriver au pipeline final.\n",
    "\n",
    "Vous y trouverez donc pas mal de statistiques exploratoires mais aussi des essais de modélisation non fructueux ou bien des tests de paramètres pour les modèles finaux.\n",
    "\n",
    "## Importation des données\n",
    "\n",
    "Commencons par importer les données :\n",
    "- make_data :\n",
    "    - crée les dossiers qui contiendront les données,\n",
    "    - charge les données \"raw\" (pour le moment fait à la main).\n",
    "    \n",
    "- clean_data :\n",
    "    - met des labels aux colonnes, \n",
    "    - supprime les données redondates,\n",
    "    - reformate les timestamps,\n",
    "    - sauvegarde ça dans un csv et un dataframe : \"buyer_history\"."
   ]
  },
  {
   "cell_type": "code",
   "execution_count": 1,
   "metadata": {
    "collapsed": false,
    "deletable": true,
    "editable": true
   },
   "outputs": [
    {
     "name": "stdout",
     "output_type": "stream",
     "text": [
      "Mettez les export_ensai_buyersHistory_170216.csv et export_ensai_buyersProfil_170216.csv et PFEensai2017_description_des_donnees.xlsx dans PFE/data/raw/\n"
     ]
    }
   ],
   "source": [
    "%run ../src/make_data.py\n",
    "%run ../src/clean_data.py"
   ]
  },
  {
   "cell_type": "markdown",
   "metadata": {
    "deletable": true,
    "editable": true
   },
   "source": [
    "## Statistique Exploratoire\n",
    "\n",
    "### Comportements des acheteurs (sans visites)\n",
    "\n",
    "Regardons tout d'abord comment les acheteurs se comportent indépendamment des visites.\n",
    "\n",
    "Déjà on peut regarder si les visites sont significatives ou pas :"
   ]
  },
  {
   "cell_type": "code",
   "execution_count": 2,
   "metadata": {
    "collapsed": false,
    "deletable": true,
    "editable": true
   },
   "outputs": [
    {
     "data": {
      "text/plain": [
       "4063"
      ]
     },
     "execution_count": 2,
     "metadata": {},
     "output_type": "execute_result"
    }
   ],
   "source": [
    "buyer_history.drop_duplicates().shape[0] - buyer_history[[\"buyer_id\",\"event\",\"timestamp\",\"status\"]].drop_duplicates().shape[0]"
   ]
  },
  {
   "cell_type": "markdown",
   "metadata": {
    "deletable": true,
    "editable": true
   },
   "source": [
    "On peut voir que certaines lignes sont redondantes si on enlève les visites. Cela veut dire qu'un personne effectue deux fois la même action au même moment mais avec des visit_id différentes ?\n",
    "\n",
    "Ce genre de lignes polluent notre base de données et doivent être enlevées.\n",
    "\n",
    "Maintenant regardons le nombre d'évenements pas achteurs."
   ]
  },
  {
   "cell_type": "code",
   "execution_count": 3,
   "metadata": {
    "collapsed": false,
    "deletable": true,
    "editable": true
   },
   "outputs": [
    {
     "data": {
      "text/plain": [
       "count    14654.000000\n",
       "mean         6.932442\n",
       "std        146.689088\n",
       "min          1.000000\n",
       "25%          2.000000\n",
       "50%          2.000000\n",
       "75%          4.000000\n",
       "max      17661.000000\n",
       "Name: event, dtype: float64"
      ]
     },
     "execution_count": 3,
     "metadata": {},
     "output_type": "execute_result"
    }
   ],
   "source": [
    "buyer_history.groupby(\"buyer_id\")[\"event\"].count().describe()"
   ]
  },
  {
   "cell_type": "markdown",
   "metadata": {
    "deletable": true,
    "editable": true
   },
   "source": [
    "On peut voir que le nombre d'event median par buyer est de 2 mais que la moyenne est de 6.9 : distribution asymétrique.\n",
    "\n",
    "Le nombre d'event max pour un acheteur est de 17837 : appelons cette personne mec_chelou et regardons son comportement:"
   ]
  },
  {
   "cell_type": "code",
   "execution_count": 4,
   "metadata": {
    "collapsed": false,
    "deletable": true,
    "editable": true,
    "scrolled": false
   },
   "outputs": [
    {
     "data": {
      "text/plain": [
       "pageview                     10279\n",
       "iadvize_displayed             2931\n",
       "demande_de_catalogue           981\n",
       "telechargement_3d              873\n",
       "visit_identified               604\n",
       "formulaire_web                 548\n",
       "crm_email                      462\n",
       "demande_de_devis               170\n",
       "crm_Courrier_électronique      135\n",
       "Name: event, dtype: int64"
      ]
     },
     "execution_count": 4,
     "metadata": {},
     "output_type": "execute_result"
    }
   ],
   "source": [
    "mec_chelou = buyer_history.groupby(\"buyer_id\")[\"event\"].count().idxmax()\n",
    "buyer_history[buyer_history[\"buyer_id\"]==mec_chelou][\"event\"].value_counts()[0:9]"
   ]
  },
  {
   "cell_type": "markdown",
   "metadata": {
    "deletable": true,
    "editable": true
   },
   "source": [
    "On peut voir plus de 10000 page views"
   ]
  },
  {
   "cell_type": "code",
   "execution_count": 5,
   "metadata": {
    "collapsed": false,
    "deletable": true,
    "editable": true
   },
   "outputs": [
    {
     "data": {
      "text/plain": [
       "19"
      ]
     },
     "execution_count": 5,
     "metadata": {},
     "output_type": "execute_result"
    }
   ],
   "source": [
    "((buyer_history[\"buyer_id\"]==mec_chelou) & (buyer_history[\"event\"]==\"projet\") & (buyer_history[\"status\"]==\"Gagné\")).sum()"
   ]
  },
  {
   "cell_type": "markdown",
   "metadata": {
    "deletable": true,
    "editable": true
   },
   "source": [
    "Seulement 19 projet acheté : C'est peut être le compte d'une entreprise ou simplement d'un employé du magasin réalisant des projets pour ses clients.\n",
    "\n",
    "Pour le moment il n'est pas représentatif de la population et peut grandement fausser des futurs résultats : on préfère l'enlever pour le moment.\n",
    "\n",
    "Ce changement et la suppresion des données redondantes se font dans explore_data.py"
   ]
  },
  {
   "cell_type": "code",
   "execution_count": 6,
   "metadata": {
    "collapsed": true,
    "deletable": true,
    "editable": true
   },
   "outputs": [],
   "source": [
    "%run ../src/explore_data.py"
   ]
  },
  {
   "cell_type": "markdown",
   "metadata": {
    "deletable": true,
    "editable": true
   },
   "source": [
    "Continuons en regardant les 20 autres suivants pour voir s'ils ont eux aussi un comportement anormal.\n",
    "\n",
    "On va regarder leur pageview et leur achat principalement et leur annulation voir s'ils ont hésitants :"
   ]
  },
  {
   "cell_type": "code",
   "execution_count": 7,
   "metadata": {
    "collapsed": false,
    "deletable": true,
    "editable": true
   },
   "outputs": [
    {
     "name": "stdout",
     "output_type": "stream",
     "text": [
      "pageview = 420, achat = 0, gestion du projet = 0\n",
      "pageview = 283, achat = 0, gestion du projet = 0\n",
      "pageview = 280, achat = 0, gestion du projet = 0\n",
      "pageview = 216, achat = 0, gestion du projet = 0\n",
      "pageview = 166, achat = 0, gestion du projet = 0\n",
      "pageview = 163, achat = 0, gestion du projet = 0\n",
      "pageview = 140, achat = 0, gestion du projet = 0\n",
      "pageview = 152, achat = 0, gestion du projet = 0\n",
      "pageview = 143, achat = 0, gestion du projet = 0\n",
      "pageview = 160, achat = 0, gestion du projet = 0\n",
      "pageview = 128, achat = 0, gestion du projet = 0\n",
      "pageview = 144, achat = 0, gestion du projet = 0\n",
      "pageview = 179, achat = 0, gestion du projet = 0\n",
      "pageview = 193, achat = 0, gestion du projet = 0\n",
      "pageview = 167, achat = 0, gestion du projet = 0\n",
      "pageview = 158, achat = 0, gestion du projet = 0\n",
      "pageview = 152, achat = 0, gestion du projet = 0\n",
      "pageview = 134, achat = 0, gestion du projet = 0\n",
      "pageview = 119, achat = 0, gestion du projet = 0\n"
     ]
    }
   ],
   "source": [
    "top20_chelou = buyer_history.groupby(\"buyer_id\")[\"event\"].count().sort_values(ascending=False)[0:19]\n",
    "for chelou in top20_chelou.index:\n",
    "    print(\"pageview = {0}\".format(((buyer_history[\"buyer_id\"]==chelou) & (buyer_history[\"event\"]==\"pageview\")).sum()),end=\", \")\n",
    "    print(\"achat = {0}\".format(((buyer_history[\"buyer_id\"]==chelou) & (buyer_history[\"event\"]==\"projet_win\")).sum()),end=\", \")\n",
    "    print(\"gestion du projet = {0}\".format(((buyer_history[\"buyer_id\"]==chelou) & (buyer_history[\"event\"]==\"projet\")).sum()))"
   ]
  },
  {
   "cell_type": "markdown",
   "metadata": {
    "deletable": true,
    "editable": true
   },
   "source": [
    "On a l'impression qu'on est face a des acheteurs hésitants plutôt que des données fausses : on va les garder.\n",
    "\n",
    "### Acheteurs dans le temps\n",
    "\n",
    "Petite info sur le nombre de visite par buyer_id"
   ]
  },
  {
   "cell_type": "code",
   "execution_count": 8,
   "metadata": {
    "collapsed": false,
    "deletable": true,
    "editable": true,
    "scrolled": true
   },
   "outputs": [
    {
     "data": {
      "text/html": [
       "<div>\n",
       "<table border=\"1\" class=\"dataframe\">\n",
       "  <thead>\n",
       "    <tr style=\"text-align: right;\">\n",
       "      <th></th>\n",
       "      <th>visit_id</th>\n",
       "    </tr>\n",
       "  </thead>\n",
       "  <tbody>\n",
       "    <tr>\n",
       "      <th>count</th>\n",
       "      <td>14653.000000</td>\n",
       "    </tr>\n",
       "    <tr>\n",
       "      <th>mean</th>\n",
       "      <td>3.412544</td>\n",
       "    </tr>\n",
       "    <tr>\n",
       "      <th>std</th>\n",
       "      <td>3.431968</td>\n",
       "    </tr>\n",
       "    <tr>\n",
       "      <th>min</th>\n",
       "      <td>1.000000</td>\n",
       "    </tr>\n",
       "    <tr>\n",
       "      <th>25%</th>\n",
       "      <td>2.000000</td>\n",
       "    </tr>\n",
       "    <tr>\n",
       "      <th>50%</th>\n",
       "      <td>2.000000</td>\n",
       "    </tr>\n",
       "    <tr>\n",
       "      <th>75%</th>\n",
       "      <td>3.000000</td>\n",
       "    </tr>\n",
       "    <tr>\n",
       "      <th>max</th>\n",
       "      <td>72.000000</td>\n",
       "    </tr>\n",
       "  </tbody>\n",
       "</table>\n",
       "</div>"
      ],
      "text/plain": [
       "           visit_id\n",
       "count  14653.000000\n",
       "mean       3.412544\n",
       "std        3.431968\n",
       "min        1.000000\n",
       "25%        2.000000\n",
       "50%        2.000000\n",
       "75%        3.000000\n",
       "max       72.000000"
      ]
     },
     "execution_count": 8,
     "metadata": {},
     "output_type": "execute_result"
    }
   ],
   "source": [
    "buyer_history[[\"buyer_id\",\"visit_id\"]].drop_duplicates().groupby([\"buyer_id\"]).count().describe()"
   ]
  },
  {
   "cell_type": "markdown",
   "metadata": {
    "deletable": true,
    "editable": true
   },
   "source": [
    "On va regarder maintenant les timestamps maximums et minimums :"
   ]
  },
  {
   "cell_type": "code",
   "execution_count": 9,
   "metadata": {
    "collapsed": false,
    "deletable": true,
    "editable": true
   },
   "outputs": [],
   "source": [
    "max_ts = buyer_history[[\"buyer_id\",\"timestamp\"]].groupby([\"buyer_id\"]).max()\n",
    "min_ts = buyer_history[[\"buyer_id\",\"timestamp\"]].groupby([\"buyer_id\"]).min()\n",
    "\n",
    "min_ts[\"date\"]=stringlist_to_datelist(min_ts[\"timestamp\"])\n",
    "max_ts[\"date\"]=stringlist_to_datelist(max_ts[\"timestamp\"])"
   ]
  },
  {
   "cell_type": "markdown",
   "metadata": {
    "deletable": true,
    "editable": true
   },
   "source": [
    "Maintenant on peut regarder la distribution du temps de passage par acheteur."
   ]
  },
  {
   "cell_type": "code",
   "execution_count": 10,
   "metadata": {
    "collapsed": false,
    "deletable": true,
    "editable": true,
    "scrolled": true
   },
   "outputs": [
    {
     "data": {
      "text/plain": [
       "count                      14653\n",
       "mean     23 days 09:05:11.661161\n",
       "std      58 days 10:35:30.251437\n",
       "min              0 days 00:00:00\n",
       "25%              0 days 00:00:00\n",
       "50%              0 days 00:00:00\n",
       "75%              6 days 01:49:00\n",
       "max            495 days 10:43:44\n",
       "Name: date, dtype: object"
      ]
     },
     "execution_count": 10,
     "metadata": {},
     "output_type": "execute_result"
    }
   ],
   "source": [
    "(max_ts[\"date\"]-min_ts[\"date\"]).describe()"
   ]
  },
  {
   "cell_type": "markdown",
   "metadata": {
    "deletable": true,
    "editable": true
   },
   "source": [
    "### Les évènements\n",
    "\n",
    "Un petit regard sur les évènements en eux memes."
   ]
  },
  {
   "cell_type": "code",
   "execution_count": 11,
   "metadata": {
    "collapsed": false,
    "deletable": true,
    "editable": true,
    "scrolled": true
   },
   "outputs": [
    {
     "data": {
      "text/plain": [
       "pageview          24983\n",
       "store             16090\n",
       "project_win       14735\n",
       "chat               6525\n",
       "appointement       5740\n",
       "download           2045\n",
       "email              1945\n",
       "catalogue          1856\n",
       "idenfitication     1354\n",
       "form               1209\n",
       "sms                1087\n",
       "project             834\n",
       "quote               368\n",
       "mail                360\n",
       "call                329\n",
       "project_lose        268\n",
       "sms_lose            120\n",
       "task                 85\n",
       "contact              37\n",
       "newsletter           20\n",
       "catalogue_lose       17\n",
       "quote_lose            3\n",
       "other                 2\n",
       "Name: event, dtype: int64"
      ]
     },
     "execution_count": 11,
     "metadata": {},
     "output_type": "execute_result"
    }
   ],
   "source": [
    "buyer_history[\"event\"].value_counts()"
   ]
  },
  {
   "cell_type": "markdown",
   "metadata": {
    "deletable": true,
    "editable": true
   },
   "source": [
    "Et voilà !"
   ]
  }
 ],
 "metadata": {
  "kernelspec": {
   "display_name": "Python 3",
   "language": "python",
   "name": "python3"
  },
  "language_info": {
   "codemirror_mode": {
    "name": "ipython",
    "version": 3
   },
   "file_extension": ".py",
   "mimetype": "text/x-python",
   "name": "python",
   "nbconvert_exporter": "python",
   "pygments_lexer": "ipython3",
   "version": "3.5.2"
  }
 },
 "nbformat": 4,
 "nbformat_minor": 1
}
